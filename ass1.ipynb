{
 "cells": [
  {
   "cell_type": "markdown",
   "metadata": {},
   "source": [
    "algorithm\n",
    "1. the process begins\n",
    "2. input the list and the value n: this represents the list of numbers and the\n",
    "3. the function search(list,n) is involved.\n",
    "4. loop starts from i=0 to i = len(list) - 1\n",
    "   condition (inside loop): list[i] ==n \n",
    "   if true: function returns i, which is the index where n is\n",
    "   if false : continue to the next iteration\n",
    "\n",
    "5. if the loop completes and no match is found, the function returns -1.\n",
    "6. check if search(list, n) ! = -1\n",
    "    true(found): print \"found at\" followed by the index\n",
    "    false : print \"not found\"\n",
    "7. the process terminates."
   ]
  },
  {
   "cell_type": "code",
   "execution_count": null,
   "metadata": {},
   "outputs": [],
   "source": [
    "def search(list,n):\n",
    "    for i in range(len(list)):\n",
    "        if list[i] == n:\n",
    "            return i \n",
    "    else:\n",
    "        return -1\n",
    "\n",
    "list = [10, 23, 63, 66,18, 12, 24]\n",
    "n = 67\n",
    "\n",
    "if search (list, n) != -1:\n",
    "    print (\"found at\", search(list,n))\n",
    "else :\n",
    "    print(\"not found\")"
   ]
  }
 ],
 "metadata": {
  "kernelspec": {
   "display_name": "base",
   "language": "python",
   "name": "python3"
  },
  "language_info": {
   "name": "python",
   "version": "3.12.4"
  }
 },
 "nbformat": 4,
 "nbformat_minor": 2
}
